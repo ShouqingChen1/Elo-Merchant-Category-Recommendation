{
 "cells": [
  {
   "cell_type": "code",
   "execution_count": 1,
   "metadata": {
    "_cell_guid": "b1076dfc-b9ad-4769-8c92-a6c4dae69d19",
    "_uuid": "8f2839f25d086af736a60e9eeb907d3b93b6e0e5"
   },
   "outputs": [],
   "source": [
    "import numpy as np # linear algebra\n",
    "import pandas as pd # data processing, CSV file I/O (e.g. pd.read_csv)\n",
    "from scipy.stats import truncnorm"
   ]
  },
  {
   "cell_type": "code",
   "execution_count": 2,
   "metadata": {
    "_uuid": "ed1d2e53af202ef9a8dc33e679232dff14934f7d"
   },
   "outputs": [],
   "source": [
    "df1 = pd.read_csv('../input/combining3683/combining_submission1.csv')\n",
    "df2 = pd.read_csv('../input/combining3683/combining_submission2.csv')\n",
    "df3 = pd.read_csv('../input/combining3683/combining_submission3.csv')\n",
    "df4 = pd.read_csv('../input/combining3683/combining_submission4.csv')\n",
    "\n"
   ]
  },
  {
   "cell_type": "code",
   "execution_count": 3,
   "metadata": {
    "_cell_guid": "79c7e3d0-c299-4dcb-8224-4455121ee9b0",
    "_uuid": "d629ff2d2480ee46fbb7e2d37f6b5fab8052498a"
   },
   "outputs": [
    {
     "name": "stderr",
     "output_type": "stream",
     "text": [
      "/opt/conda/lib/python3.6/site-packages/scipy/stats/_continuous_distns.py:5823: RuntimeWarning: invalid value encountered in log\n",
      "  self._logdelta = np.log(self._delta)\n"
     ]
    }
   ],
   "source": [
    "df1['target'] = truncnorm.mean(df1['target'], df2['target'],)\n",
    "df1['target'] = truncnorm.mean(df1['target'], df3['target'],)\n",
    "df1['target'] = truncnorm.mean(df1['target'], df4['target'],)"
   ]
  },
  {
   "cell_type": "code",
   "execution_count": 4,
   "metadata": {
    "_uuid": "6b74b3751972e31efd8f52479a95a2acc6677fcf"
   },
   "outputs": [],
   "source": [
    "df1.to_csv('ens3.683.csv',index=False)"
   ]
  },
  {
   "cell_type": "code",
   "execution_count": 5,
   "metadata": {
    "_uuid": "452cad28aa5cbffc621cee660ec21d5e31257772"
   },
   "outputs": [],
   "source": []
  }
 ],
 "metadata": {
  "kernelspec": {
   "display_name": "Python 3",
   "language": "python",
   "name": "python3"
  },
  "language_info": {
   "codemirror_mode": {
    "name": "ipython",
    "version": 3
   },
   "file_extension": ".py",
   "mimetype": "text/x-python",
   "name": "python",
   "nbconvert_exporter": "python",
   "pygments_lexer": "ipython3",
   "version": "3.6.6"
  }
 },
 "nbformat": 4,
 "nbformat_minor": 1
}
